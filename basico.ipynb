{
 "cells": [
  {
   "cell_type": "markdown",
   "metadata": {},
   "source": [
    "<h1>Pandas</h1>\n",
    "    O nome pandas é derivado de panel data (dados em painel).<br>\n",
    "    Pandas foi projetado para trabalhar com dados tabulares e heterogêneos de forma rápida e fácil.\n",
    "\n",
    "<h4>Instalação</h4>\n",
    "<li>\n",
    "    Execute no terminal o comando: <b>$pip install pandas</b>\n",
    "</li>\n",
    "<h4>Importação da biblioteca</h4>\n"
   ]
  },
  {
   "cell_type": "code",
   "execution_count": 1,
   "metadata": {},
   "outputs": [],
   "source": [
    "import pandas as pd"
   ]
  },
  {
   "cell_type": "markdown",
   "metadata": {},
   "source": [
    "<h3>As duas principais estruturas de dados do pandas</h3>\n",
    "<h4>Series</h4>\n",
    "<p> \n",
    "    Muito semelhante a um dicionário, porém otimizado para operações matemáticas.\n",
    "</p>\n",
    "\n",
    "<h4>Data Frame</h4>\n",
    "<p> \n",
    "    Representação de uma tabela de dados que contém uma coleção ordenada de colunas, em que cada uma pode ter um tipo de valor diferente (numérico,string, booleano etc.). O DataFrame(DF) tem índicies tanto para as colunas qunto para linhas.\n",
    "</p>\n",
    "<p>\n",
    "    Exitem várias formas de se criar um DataFrame. Por exemplo a partir de dicionários e arrays multidimendionais. \n",
    "</p>\n",
    "\n",
    "<h4>Importar dados para um Data Frame Pandas</h4>"
   ]
  },
  {
   "cell_type": "code",
   "execution_count": 3,
   "metadata": {},
   "outputs": [
    {
     "data": {
      "text/html": [
       "<div>\n",
       "<style scoped>\n",
       "    .dataframe tbody tr th:only-of-type {\n",
       "        vertical-align: middle;\n",
       "    }\n",
       "\n",
       "    .dataframe tbody tr th {\n",
       "        vertical-align: top;\n",
       "    }\n",
       "\n",
       "    .dataframe thead th {\n",
       "        text-align: right;\n",
       "    }\n",
       "</style>\n",
       "<table border=\"1\" class=\"dataframe\">\n",
       "  <thead>\n",
       "    <tr style=\"text-align: right;\">\n",
       "      <th></th>\n",
       "      <th>NumCad</th>\n",
       "      <th>NomFun</th>\n",
       "      <th>DatNas</th>\n",
       "      <th>DatAdm</th>\n",
       "    </tr>\n",
       "  </thead>\n",
       "  <tbody>\n",
       "    <tr>\n",
       "      <th>0</th>\n",
       "      <td>1</td>\n",
       "      <td>Isaac da Luz</td>\n",
       "      <td>26/06/1990</td>\n",
       "      <td>11/10/2016</td>\n",
       "    </tr>\n",
       "    <tr>\n",
       "      <th>1</th>\n",
       "      <td>2</td>\n",
       "      <td>Agatha Campos</td>\n",
       "      <td>18/01/1991</td>\n",
       "      <td>04/05/2021</td>\n",
       "    </tr>\n",
       "    <tr>\n",
       "      <th>2</th>\n",
       "      <td>3</td>\n",
       "      <td>Luiza Aragão</td>\n",
       "      <td>25/05/1987</td>\n",
       "      <td>15/01/2022</td>\n",
       "    </tr>\n",
       "    <tr>\n",
       "      <th>3</th>\n",
       "      <td>4</td>\n",
       "      <td>Gabriela Almeida</td>\n",
       "      <td>26/05/1966</td>\n",
       "      <td>12/08/2023</td>\n",
       "    </tr>\n",
       "    <tr>\n",
       "      <th>4</th>\n",
       "      <td>5</td>\n",
       "      <td>Antônio Alves</td>\n",
       "      <td>26/12/2002</td>\n",
       "      <td>08/11/2023</td>\n",
       "    </tr>\n",
       "  </tbody>\n",
       "</table>\n",
       "</div>"
      ],
      "text/plain": [
       "   NumCad            NomFun      DatNas      DatAdm\n",
       "0       1      Isaac da Luz  26/06/1990  11/10/2016\n",
       "1       2     Agatha Campos  18/01/1991  04/05/2021\n",
       "2       3      Luiza Aragão  25/05/1987  15/01/2022\n",
       "3       4  Gabriela Almeida  26/05/1966  12/08/2023\n",
       "4       5     Antônio Alves  26/12/2002  08/11/2023"
      ]
     },
     "execution_count": 3,
     "metadata": {},
     "output_type": "execute_result"
    }
   ],
   "source": [
    "# Importação a partir de uma arquivo csv\n",
    "df_csv = pd.read_csv('employee.csv', sep=',', encoding='latin-1')\n",
    "\n",
    "# Retorna as cinco primeiras linhas\n",
    "df_csv.head()"
   ]
  },
  {
   "cell_type": "code",
   "execution_count": 4,
   "metadata": {},
   "outputs": [
    {
     "data": {
      "text/html": [
       "<div>\n",
       "<style scoped>\n",
       "    .dataframe tbody tr th:only-of-type {\n",
       "        vertical-align: middle;\n",
       "    }\n",
       "\n",
       "    .dataframe tbody tr th {\n",
       "        vertical-align: top;\n",
       "    }\n",
       "\n",
       "    .dataframe thead th {\n",
       "        text-align: right;\n",
       "    }\n",
       "</style>\n",
       "<table border=\"1\" class=\"dataframe\">\n",
       "  <thead>\n",
       "    <tr style=\"text-align: right;\">\n",
       "      <th></th>\n",
       "      <th>NumCad</th>\n",
       "      <th>NomFun</th>\n",
       "      <th>DatNas</th>\n",
       "      <th>DatAdm</th>\n",
       "    </tr>\n",
       "  </thead>\n",
       "  <tbody>\n",
       "    <tr>\n",
       "      <th>0</th>\n",
       "      <td>1</td>\n",
       "      <td>Isaac da Luz</td>\n",
       "      <td>26/06/1990</td>\n",
       "      <td>11/10/2016</td>\n",
       "    </tr>\n",
       "    <tr>\n",
       "      <th>1</th>\n",
       "      <td>2</td>\n",
       "      <td>Agatha Campos</td>\n",
       "      <td>18/01/1991</td>\n",
       "      <td>04/05/2021</td>\n",
       "    </tr>\n",
       "    <tr>\n",
       "      <th>2</th>\n",
       "      <td>3</td>\n",
       "      <td>Luiza Aragão</td>\n",
       "      <td>25/05/1987</td>\n",
       "      <td>15/01/2022</td>\n",
       "    </tr>\n",
       "    <tr>\n",
       "      <th>3</th>\n",
       "      <td>4</td>\n",
       "      <td>Gabriela Almeida</td>\n",
       "      <td>26/05/1966</td>\n",
       "      <td>12/08/2023</td>\n",
       "    </tr>\n",
       "    <tr>\n",
       "      <th>4</th>\n",
       "      <td>5</td>\n",
       "      <td>Antônio Alves</td>\n",
       "      <td>26/12/2002</td>\n",
       "      <td>08/11/2023</td>\n",
       "    </tr>\n",
       "    <tr>\n",
       "      <th>...</th>\n",
       "      <td>...</td>\n",
       "      <td>...</td>\n",
       "      <td>...</td>\n",
       "      <td>...</td>\n",
       "    </tr>\n",
       "    <tr>\n",
       "      <th>994</th>\n",
       "      <td>995</td>\n",
       "      <td>Laura Sales</td>\n",
       "      <td>06/03/1965</td>\n",
       "      <td>17/05/2018</td>\n",
       "    </tr>\n",
       "    <tr>\n",
       "      <th>995</th>\n",
       "      <td>996</td>\n",
       "      <td>Beatriz Moraes</td>\n",
       "      <td>26/05/1988</td>\n",
       "      <td>31/05/2023</td>\n",
       "    </tr>\n",
       "    <tr>\n",
       "      <th>996</th>\n",
       "      <td>997</td>\n",
       "      <td>Bárbara Silveira</td>\n",
       "      <td>16/05/1990</td>\n",
       "      <td>31/08/2016</td>\n",
       "    </tr>\n",
       "    <tr>\n",
       "      <th>997</th>\n",
       "      <td>998</td>\n",
       "      <td>Otávio Nascimento</td>\n",
       "      <td>21/06/1978</td>\n",
       "      <td>18/12/2023</td>\n",
       "    </tr>\n",
       "    <tr>\n",
       "      <th>998</th>\n",
       "      <td>999</td>\n",
       "      <td>Benjamin Freitas</td>\n",
       "      <td>28/04/1985</td>\n",
       "      <td>29/09/2014</td>\n",
       "    </tr>\n",
       "  </tbody>\n",
       "</table>\n",
       "<p>999 rows × 4 columns</p>\n",
       "</div>"
      ],
      "text/plain": [
       "     NumCad             NomFun      DatNas      DatAdm\n",
       "0         1       Isaac da Luz  26/06/1990  11/10/2016\n",
       "1         2      Agatha Campos  18/01/1991  04/05/2021\n",
       "2         3       Luiza Aragão  25/05/1987  15/01/2022\n",
       "3         4   Gabriela Almeida  26/05/1966  12/08/2023\n",
       "4         5      Antônio Alves  26/12/2002  08/11/2023\n",
       "..      ...                ...         ...         ...\n",
       "994     995        Laura Sales  06/03/1965  17/05/2018\n",
       "995     996     Beatriz Moraes  26/05/1988  31/05/2023\n",
       "996     997   Bárbara Silveira  16/05/1990  31/08/2016\n",
       "997     998  Otávio Nascimento  21/06/1978  18/12/2023\n",
       "998     999   Benjamin Freitas  28/04/1985  29/09/2014\n",
       "\n",
       "[999 rows x 4 columns]"
      ]
     },
     "execution_count": 4,
     "metadata": {},
     "output_type": "execute_result"
    }
   ],
   "source": [
    "# Importação a partir de um arquivo excel\n",
    "df_excel = pd.read_excel('employees.xlsx')\n",
    "df_excel"
   ]
  },
  {
   "cell_type": "code",
   "execution_count": 5,
   "metadata": {},
   "outputs": [
    {
     "data": {
      "text/plain": [
       "Index(['NumCad', 'NomFun', 'DatNas', 'DatAdm'], dtype='object')"
      ]
     },
     "execution_count": 5,
     "metadata": {},
     "output_type": "execute_result"
    }
   ],
   "source": [
    "# Retorna o nome das colunas do DataFrame\n",
    "df_csv.columns"
   ]
  },
  {
   "cell_type": "code",
   "execution_count": null,
   "metadata": {},
   "outputs": [],
   "source": [
    "\n"
   ]
  }
 ],
 "metadata": {
  "kernelspec": {
   "display_name": "Python 3.9.13 64-bit (microsoft store)",
   "language": "python",
   "name": "python3"
  },
  "language_info": {
   "codemirror_mode": {
    "name": "ipython",
    "version": 3
   },
   "file_extension": ".py",
   "mimetype": "text/x-python",
   "name": "python",
   "nbconvert_exporter": "python",
   "pygments_lexer": "ipython3",
   "version": "3.10.12"
  },
  "orig_nbformat": 4,
  "vscode": {
   "interpreter": {
    "hash": "b40bc2413a07618f12e1c9a1f5667c56421de62e8095f05d50b17946325587c1"
   }
  }
 },
 "nbformat": 4,
 "nbformat_minor": 2
}
